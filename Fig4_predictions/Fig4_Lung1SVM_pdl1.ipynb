{
 "cells": [
  {
   "cell_type": "markdown",
   "metadata": {},
   "source": [
    "#### Code to generate predictions using a weighted SVM; only PD-L1 marker is used\n"
   ]
  },
  {
   "cell_type": "code",
   "execution_count": 67,
   "metadata": {
    "tags": []
   },
   "outputs": [],
   "source": [
    "import os\n",
    "import sys\n",
    "import random\n",
    "import warnings\n",
    "\n",
    "import numpy as np\n",
    "import pandas as pd\n",
    "\n",
    "import matplotlib\n",
    "import matplotlib.pyplot as plt\n",
    "import matplotlib.patches as mpatches\n",
    "%matplotlib inline\n",
    "\n",
    "from tqdm import tqdm\n",
    "from itertools import chain\n",
    "\n",
    "\n",
    "from scipy import ndimage\n",
    "\n",
    "from sklearn.manifold import TSNE\n",
    "\n",
    "from scipy.stats import zscore\n",
    "\n",
    "from skimage.color import rgb2gray\n",
    "\n",
    "from matplotlib.patches import Polygon\n",
    "\n",
    "from skimage import io\n",
    "\n",
    "from skimage import data\n",
    "from skimage.filters import threshold_otsu\n",
    "from skimage.segmentation import clear_border\n",
    "from skimage.measure import label, regionprops\n",
    "from skimage.morphology import closing, square\n",
    "from skimage.color import label2rgb\n",
    "from skimage.io import imread, imshow, imread_collection, concatenate_images\n",
    "from skimage.transform import resize\n",
    "from skimage.morphology import label\n",
    "\n",
    "import seaborn as sns\n",
    "\n",
    "import scipy.spatial\n",
    "\n",
    "from scipy.spatial import ConvexHull, convex_hull_plot_2d\n",
    "\n",
    "\n",
    "from scipy.spatial import distance\n",
    "\n",
    "\n",
    "import seaborn as sns\n",
    "\n",
    "\n",
    "import matplotlib.image as mpimg \n",
    "import time as time\n",
    "\n",
    "import matplotlib.colors as colors \n",
    "\n",
    "from matplotlib import colors as mcolors\n",
    "\n",
    "\n",
    "colors = dict(mcolors.BASE_COLORS, **mcolors.CSS4_COLORS)\n",
    "\n",
    "import itertools"
   ]
  },
  {
   "cell_type": "code",
   "execution_count": null,
   "metadata": {
    "tags": []
   },
   "outputs": [],
   "source": [
    "\n",
    "path_python = './spatial_cells_SVM_Lung1/'\n",
    "\n",
    "\n",
    "dpi_set = 100\n",
    "\n",
    "num_colour = 30\n",
    "cm = plt.cm.get_cmap('tab20', num_colour)\n",
    "\n",
    "num_comp = 8\n",
    "\n",
    "count = 0\n",
    "\n",
    "pat_num = []"
   ]
  },
  {
   "cell_type": "code",
   "execution_count": 70,
   "metadata": {
    "tags": []
   },
   "outputs": [],
   "source": [
    "NSCLC_CM_FOV = []\n",
    "NSCLC_CM_list = []\n",
    "cells_per_FOV = []\n",
    "cent_per_FOV = []\n",
    "stitched_image_list = []\n",
    "label_im_st_list = []\n",
    "X_2d_list = []"
   ]
  },
  {
   "cell_type": "code",
   "execution_count": 73,
   "metadata": {
    "scrolled": true
   },
   "outputs": [
    {
     "name": "stdout",
     "output_type": "stream",
     "text": [
      "(1340, 7)\n",
      "pat_47_sd_pre_40994_16041_spat_distance_CM_post1.csv\n",
      "0.47\n",
      "47\n",
      "sd\n",
      "(1206, 7)\n",
      "pat_44_sd_pre_41191_15079_spat_distance_CM_post1.csv\n",
      "0.55\n",
      "44\n",
      "sd\n",
      "(1237, 7)\n",
      "pat_54_pd_pre_50076_15190_spat_distance_CM_post1.csv\n",
      "0.517\n",
      "54\n",
      "pd\n",
      "(2064, 7)\n",
      "pat_34_sd_pre_42959_16846_spat_distance_CM_post1.csv\n",
      "0.504\n",
      "34\n",
      "sd\n",
      "(1262, 7)\n",
      "pat_47_sd_pre_40503_15806_spat_distance_CM_post1.csv\n",
      "0.47\n",
      "47\n",
      "sd\n",
      "(1407, 7)\n",
      "pat_41_pd_pre_41430_16100_0_spat_distance_CM_post1.csv\n",
      "0.504\n",
      "41\n",
      "pd\n",
      "(1470, 7)\n",
      "pat_44_sd_pre_47289_12844_spat_distance_CM_post1.csv\n",
      "0.55\n",
      "44\n",
      "sd\n",
      "(1464, 7)\n",
      "pat_36_pd_pre_43257_16035_spat_distance_CM_post1.csv\n",
      "0.523\n",
      "36\n",
      "pd\n",
      "(1936, 7)\n",
      "pat_34_sd_pre_40842_18076_spat_distance_CM_post1.csv\n",
      "0.504\n",
      "34\n",
      "sd\n",
      "(1445, 7)\n",
      "pat_44_sd_pre_41823_12896_spat_distance_CM_post1.csv\n",
      "0.55\n",
      "44\n",
      "sd\n",
      "(1426, 7)\n",
      "pat_47_sd_pre_40235_14110_spat_distance_CM_post1.csv\n",
      "0.47\n",
      "47\n",
      "sd\n",
      "(1143, 7)\n",
      "pat_54_pd_pre_50386_13738_spat_distance_CM_post1.csv\n",
      "0.517\n",
      "54\n",
      "pd\n",
      "(1713, 7)\n",
      "pat_33_sd_pre_52082_11436_spat_distance_CM_post1.csv\n",
      "0.44\n",
      "33\n",
      "sd\n",
      "(1030, 7)\n",
      "pat_33_sd_pre_47625_12948_spat_distance_CM_post1.csv\n",
      "0.44\n",
      "33\n",
      "sd\n",
      "(1116, 7)\n",
      "pat_37_sd_pre_45226_14002_spat_distance_CM_post1.csv\n",
      "0.53\n",
      "37\n",
      "sd\n",
      "(1269, 7)\n",
      "pat_41_pd_pre_45296_14162_spat_distance_CM_post1.csv\n",
      "0.504\n",
      "41\n",
      "pd\n",
      "(782, 7)\n",
      "pat_37_sd_pre_43726_13347_spat_distance_CM_post1.csv\n",
      "0.53\n",
      "37\n",
      "sd\n",
      "(1265, 7)\n",
      "pat_41_pd_pre_45986_16851_spat_distance_CM_post1.csv\n",
      "0.504\n",
      "41\n",
      "pd\n",
      "(391, 7)\n",
      "pat_44_sd_pre_47443_15040_spat_distance_CM_post1.csv\n",
      "0.55\n",
      "44\n",
      "sd\n",
      "(1293, 7)\n",
      "pat_33_sd_pre_53553_12433_spat_distance_CM_post1.csv\n",
      "0.44\n",
      "33\n",
      "sd\n",
      "(1359, 7)\n",
      "pat_41_pd_pre_40761_15876_spat_distance_CM_post1.csv\n",
      "0.504\n",
      "41\n",
      "pd\n",
      "(1387, 7)\n",
      "pat_44_sd_pre_48207_14851_spat_distance_CM_post1.csv\n",
      "0.55\n",
      "44\n",
      "sd\n",
      "(1657, 7)\n",
      "pat_33_sd_pre_43482_6181_spat_distance_CM_post1.csv\n",
      "0.44\n",
      "33\n",
      "sd\n",
      "(1270, 7)\n",
      "pat_33_sd_pre_47302_12538_spat_distance_CM_post1.csv\n",
      "0.44\n",
      "33\n",
      "sd\n",
      "(1338, 7)\n",
      "pat_33_sd_pre_50602_15324_spat_distance_CM_post1.csv\n",
      "0.44\n",
      "33\n",
      "sd\n",
      "(1369, 7)\n",
      "pat_36_pd_pre_43599_14756_spat_distance_CM_post1.csv\n",
      "0.523\n",
      "36\n",
      "pd\n",
      "(1127, 7)\n",
      "pat_47_sd_pre_39696_15839_spat_distance_CM_post1.csv\n",
      "0.47\n",
      "47\n",
      "sd\n",
      "(1625, 7)\n",
      "pat_33_sd_pre_43656_9394_spat_distance_CM_post1.csv\n",
      "0.44\n",
      "33\n",
      "sd\n",
      "(1352, 7)\n",
      "pat_47_sd_pre_43997_15863_spat_distance_CM_post1.csv\n",
      "0.47\n",
      "47\n",
      "sd\n",
      "(390, 7)\n",
      "pat_44_sd_pre_46774_15216_spat_distance_CM_post1.csv\n",
      "0.55\n",
      "44\n",
      "sd\n",
      "(1340, 7)\n",
      "pat_36_pd_pre_44897_11180_spat_distance_CM_post1.csv\n",
      "0.523\n",
      "36\n",
      "pd\n",
      "(1555, 7)\n",
      "pat_54_pd_pre_50082_15855_0_spat_distance_CM_post1.csv\n",
      "0.517\n",
      "54\n",
      "pd\n",
      "(420, 7)\n",
      "pat_37_sd_pre_44395_12847_spat_distance_CM_post1.csv\n",
      "0.53\n",
      "37\n",
      "sd\n",
      "(1715, 7)\n",
      "pat_47_sd_pre_43047_15928_spat_distance_CM_post1.csv\n",
      "0.47\n",
      "47\n",
      "sd\n",
      "(1404, 7)\n",
      "pat_54_pd_pre_52069_15392_spat_distance_CM_post1.csv\n",
      "0.517\n",
      "54\n",
      "pd\n",
      "(2352, 7)\n",
      "pat_34_sd_pre_43353_13635_spat_distance_CM_post1.csv\n",
      "0.504\n",
      "34\n",
      "sd\n",
      "(578, 7)\n",
      "pat_43_pd_pre_46268_13000_0_spat_distance_CM_post1.csv\n",
      "0.51\n",
      "43\n",
      "pd\n",
      "(2137, 7)\n",
      "pat_34_sd_pre_44022_13399_spat_distance_CM_post1.csv\n",
      "0.504\n",
      "34\n",
      "sd\n",
      "(1479, 7)\n",
      "pat_44_sd_pre_42708_13053_spat_distance_CM_post1.csv\n",
      "0.55\n",
      "44\n",
      "sd\n",
      "(1212, 7)\n",
      "pat_36_pd_pre_42653_11938_spat_distance_CM_post1.csv\n",
      "0.523\n",
      "36\n",
      "pd\n",
      "(877, 7)\n",
      "pat_37_sd_pre_44557_14156_spat_distance_CM_post1.csv\n",
      "0.53\n",
      "37\n",
      "sd\n",
      "(1400, 7)\n",
      "pat_36_pd_pre_42729_13385_spat_distance_CM_post1.csv\n",
      "0.523\n",
      "36\n",
      "pd\n",
      "(1580, 7)\n",
      "pat_34_sd_pre_41687_14219_spat_distance_CM_post1.csv\n",
      "0.504\n",
      "34\n",
      "sd\n",
      "(1385, 7)\n",
      "pat_41_pd_pre_43555_10890_spat_distance_CM_post1.csv\n",
      "0.504\n",
      "41\n",
      "pd\n",
      "(1518, 7)\n",
      "pat_47_sd_pre_42586_14517_spat_distance_CM_post1.csv\n",
      "0.47\n",
      "47\n",
      "sd\n",
      "(1757, 7)\n",
      "pat_54_pd_pre_47605_13644_spat_distance_CM_post1.csv\n",
      "0.517\n",
      "54\n",
      "pd\n",
      "(1239, 7)\n",
      "pat_37_sd_pre_43057_13499_spat_distance_CM_post1.csv\n",
      "0.53\n",
      "37\n",
      "sd\n",
      "(1567, 7)\n",
      "pat_44_sd_pre_45823_13164_spat_distance_CM_post1.csv\n",
      "0.55\n",
      "44\n",
      "sd\n"
     ]
    }
   ],
   "source": [
    "# read in files and weight according to quadrat weight means\n",
    "\n",
    "cell_counts = []\n",
    "fname_spat = []\n",
    "\n",
    "pat_ids_xy = [33, 34, 36, 37, 41, 43, 44, 47, 54]\n",
    "\n",
    "weights_per_patient = [0.44,\n",
    "0.504,\n",
    "0.523,\n",
    "0.53,\n",
    "0.504,\n",
    "0.51,\n",
    "0.55,\n",
    "0.47,\n",
    "0.517]\n",
    "\n",
    "data_CM = np.zeros((1,6)) #will have all the Count matrices consolidated\n",
    "prog_mat = np.zeros((1))\n",
    "accu_mat = np.zeros((1))\n",
    "\n",
    "pat_id = []\n",
    "resp_categ = []\n",
    "num_cells_categ = []  \n",
    "\n",
    "#data_CM_spat = np.zeros((1,20))\n",
    "\n",
    "for fname in os.listdir(path_python): \n",
    "    df_spat = pd.read_csv(os.path.join(path_python+fname))\n",
    "   \n",
    "    \n",
    "    print(df_spat.shape)\n",
    "    print(fname)\n",
    "    data_spat1 = np.array(df_spat )\n",
    "    data_spat = np.array(df_spat )\n",
    "\n",
    "    name = fname.split(\"_\")\n",
    "    \n",
    "\n",
    "    ## weighting the data\n",
    "    id_xy = np.array(np.where(pat_ids_xy==np.int64(name[1]))).flatten()\n",
    "    temp_xy = data_spat[:,0:6]\n",
    "    data_spat[:,0:6]=weights_per_patient[id_xy[0]]*temp_xy \n",
    "    print(weights_per_patient[id_xy[0]])\n",
    "\n",
    "    data_CM = np.concatenate((data_CM,data_spat[:,0:6]),axis=0)\n",
    "    pat_id.append(np.repeat(name[1],data_spat.shape[0]))\n",
    "    resp_categ.append(np.repeat(name[2],data_spat.shape[0]))\n",
    "    num_cells_categ.append(data_spat.shape[0])\n",
    "    fname_spat.append(fname)\n",
    "    \n",
    "\n",
    "    print(name[1])\n",
    "    print(name[2])\n"
   ]
  },
  {
   "cell_type": "code",
   "execution_count": 75,
   "metadata": {
    "tags": []
   },
   "outputs": [
    {
     "data": {
      "text/plain": [
       "64648"
      ]
     },
     "execution_count": 75,
     "metadata": {},
     "output_type": "execute_result"
    }
   ],
   "source": [
    "len(pat_num_list)"
   ]
  },
  {
   "cell_type": "code",
   "execution_count": 76,
   "metadata": {
    "tags": []
   },
   "outputs": [],
   "source": [
    "resp_categ_list = [item for sublist in resp_categ for item in sublist]"
   ]
  },
  {
   "cell_type": "code",
   "execution_count": 77,
   "metadata": {
    "tags": []
   },
   "outputs": [
    {
     "data": {
      "text/plain": [
       "64648"
      ]
     },
     "execution_count": 77,
     "metadata": {},
     "output_type": "execute_result"
    }
   ],
   "source": [
    "len(resp_categ_list)"
   ]
  },
  {
   "cell_type": "code",
   "execution_count": 78,
   "metadata": {
    "tags": []
   },
   "outputs": [
    {
     "data": {
      "text/plain": [
       "(64649, 6)"
      ]
     },
     "execution_count": 78,
     "metadata": {},
     "output_type": "execute_result"
    }
   ],
   "source": [
    "data_CM.shape"
   ]
  },
  {
   "cell_type": "code",
   "execution_count": 79,
   "metadata": {
    "tags": []
   },
   "outputs": [],
   "source": [
    "data_CM = np.delete(data_CM, (0), axis=0)\n",
    "\n",
    "#remove rows that have 0 rowsum\n",
    "\n",
    "row_sums_CM = data_CM.sum(axis=1,keepdims=True)\n",
    "rows_remove = np.where(row_sums_CM==0)\n",
    "data_CM = np.delete(data_CM,(rows_remove),axis=0)\n"
   ]
  },
  {
   "cell_type": "code",
   "execution_count": 80,
   "metadata": {
    "tags": []
   },
   "outputs": [
    {
     "data": {
      "text/plain": [
       "(62923, 6)"
      ]
     },
     "execution_count": 80,
     "metadata": {},
     "output_type": "execute_result"
    }
   ],
   "source": [
    "data_CM.shape"
   ]
  },
  {
   "cell_type": "code",
   "execution_count": 81,
   "metadata": {
    "tags": []
   },
   "outputs": [],
   "source": [
    "# rows remove if not needed\n",
    "\n",
    "resp_categ_list_flat = np.delete(np.array(resp_categ_list).flatten(),(rows_remove),axis=0)\n",
    "pat_num_list_flat = np.delete(np.array(pat_num_list).flatten(),(rows_remove),axis=0)\n",
    "\n"
   ]
  },
  {
   "cell_type": "code",
   "execution_count": 82,
   "metadata": {
    "tags": []
   },
   "outputs": [
    {
     "name": "stdout",
     "output_type": "stream",
     "text": [
      "(62923,)\n",
      "(62923,)\n"
     ]
    }
   ],
   "source": [
    "print(pat_num_list_flat.shape)\n",
    "print(resp_categ_list_flat.shape)"
   ]
  },
  {
   "cell_type": "code",
   "execution_count": 83,
   "metadata": {
    "tags": []
   },
   "outputs": [],
   "source": [
    "\n",
    "\n",
    "M =  data_CM #np.log(data_CM+0.1) #zscore(data_CM+0.1,axis=1)\n",
    "\n",
    "M_upd = M\n",
    "\n",
    "num_cells = M.shape[0]\n",
    "num_genes = M.shape[1]"
   ]
  },
  {
   "cell_type": "code",
   "execution_count": 84,
   "metadata": {
    "tags": []
   },
   "outputs": [
    {
     "data": {
      "text/plain": [
       "(array(['pd', 'sd'], dtype='<U2'), array([21040, 41883]))"
      ]
     },
     "execution_count": 84,
     "metadata": {},
     "output_type": "execute_result"
    }
   ],
   "source": [
    "np.unique(resp_categ_list_flat, return_counts=True)"
   ]
  },
  {
   "cell_type": "markdown",
   "metadata": {},
   "source": [
    "##### PD-L1 marker"
   ]
  },
  {
   "cell_type": "code",
   "execution_count": 98,
   "metadata": {
    "tags": []
   },
   "outputs": [
    {
     "data": {
      "text/plain": [
       "(62923, 6)"
      ]
     },
     "execution_count": 98,
     "metadata": {},
     "output_type": "execute_result"
    }
   ],
   "source": [
    "M_upd.shape"
   ]
  },
  {
   "cell_type": "code",
   "execution_count": 99,
   "metadata": {
    "tags": []
   },
   "outputs": [
    {
     "data": {
      "text/plain": [
       "(62923,)"
      ]
     },
     "execution_count": 99,
     "metadata": {},
     "output_type": "execute_result"
    }
   ],
   "source": [
    "### pulling out the pdl1 data\n",
    "data_pred=M_upd[:,3]\n",
    "data_pred.shape"
   ]
  },
  {
   "cell_type": "code",
   "execution_count": 100,
   "metadata": {},
   "outputs": [],
   "source": [
    "data_pred = np.reshape(data_pred,[-1,1])"
   ]
  },
  {
   "cell_type": "code",
   "execution_count": 101,
   "metadata": {},
   "outputs": [
    {
     "data": {
      "text/plain": [
       "(62923, 1)"
      ]
     },
     "execution_count": 101,
     "metadata": {},
     "output_type": "execute_result"
    }
   ],
   "source": [
    "data_pred.shape"
   ]
  },
  {
   "cell_type": "code",
   "execution_count": 102,
   "metadata": {
    "tags": []
   },
   "outputs": [
    {
     "data": {
      "text/plain": [
       "(62923,)"
      ]
     },
     "execution_count": 102,
     "metadata": {},
     "output_type": "execute_result"
    }
   ],
   "source": [
    "data_target = np.array(resp_categ_list_flat).flatten()\n",
    "dd = data_target\n",
    "sd=np.where(data_target=='sd')\n",
    "dd[sd]=1\n",
    "pd=np.where(data_target=='pd')\n",
    "dd[pd]=0\n",
    "\n",
    "data_target.shape"
   ]
  },
  {
   "cell_type": "code",
   "execution_count": 103,
   "metadata": {
    "tags": []
   },
   "outputs": [],
   "source": [
    "dd =np.int64(dd)\n",
    "dd\n",
    "data_target = dd"
   ]
  },
  {
   "cell_type": "code",
   "execution_count": 104,
   "metadata": {},
   "outputs": [
    {
     "name": "stdout",
     "output_type": "stream",
     "text": [
      "<class 'numpy.ndarray'>\n",
      "[1 1 1 ... 1 1 1]\n"
     ]
    }
   ],
   "source": [
    "print(type(data_target))\n",
    "print(data_target)"
   ]
  },
  {
   "cell_type": "code",
   "execution_count": 105,
   "metadata": {
    "scrolled": true,
    "tags": []
   },
   "outputs": [],
   "source": [
    "y_marker = ['CD3', 'PD1', 'CD8', 'PDL1', 'FoxP3', 'PanCK', 'DAPI']"
   ]
  },
  {
   "cell_type": "markdown",
   "metadata": {},
   "source": [
    "#### SVM prediction engine"
   ]
  },
  {
   "cell_type": "code",
   "execution_count": 110,
   "metadata": {},
   "outputs": [],
   "source": [
    "from sklearn.model_selection import LeavePOut, LeaveOneOut\n",
    "#Import scikit-learn metrics module for accuracy calculation\n",
    "from sklearn import metrics"
   ]
  },
  {
   "cell_type": "code",
   "execution_count": 111,
   "metadata": {},
   "outputs": [],
   "source": [
    "pat_list = np.int64(np.array(pat_num_list_flat).flatten())"
   ]
  },
  {
   "cell_type": "code",
   "execution_count": 116,
   "metadata": {},
   "outputs": [
    {
     "name": "stdout",
     "output_type": "stream",
     "text": [
      "[1 2 3 4 5 6 7] [0]\n",
      "**** Patient left out is  33\n",
      "X_train shape is:  (52650, 1)\n",
      "X_test shape is:  (9783, 1)\n",
      "y_train shape is:  (52650,)\n",
      "y_test shape is:  (9783,)\n",
      "Accuracy: 1.0\n",
      "Precision: [1.]\n",
      "Recall: [1.]\n",
      "F1 score: [1.]\n",
      "coefficients : [5.67515321e-07]\n",
      "[0 2 3 4 5 6 7] [1]\n",
      "**** Patient left out is  34\n",
      "X_train shape is:  (52408, 1)\n",
      "X_test shape is:  (10025, 1)\n",
      "y_train shape is:  (52408,)\n",
      "y_test shape is:  (10025,)\n",
      "Accuracy: 1.0\n",
      "Precision: [1.]\n",
      "Recall: [1.]\n",
      "F1 score: [1.]\n",
      "coefficients : [7.66116494e-07]\n",
      "[0 1 3 4 5 6 7] [2]\n",
      "**** Patient left out is  36\n",
      "X_train shape is:  (55648, 1)\n",
      "X_test shape is:  (6785, 1)\n",
      "y_train shape is:  (55648,)\n",
      "y_test shape is:  (6785,)\n",
      "Accuracy: 0.0\n",
      "Precision: [0. 0.]\n",
      "Recall: [0. 0.]\n",
      "F1 score: [0. 0.]\n",
      "coefficients : [4.20115248e-07]\n",
      "[0 1 2 4 5 6 7] [3]\n",
      "**** Patient left out is  37\n",
      "X_train shape is:  (58207, 1)\n",
      "X_test shape is:  (4226, 1)\n",
      "y_train shape is:  (58207,)\n",
      "y_test shape is:  (4226,)\n",
      "Accuracy: 1.0\n",
      "Precision: [1.]\n",
      "Recall: [1.]\n",
      "F1 score: [1.]\n",
      "coefficients : [7.10221843e-07]\n",
      "[0 1 2 3 5 6 7] [4]\n",
      "**** Patient left out is  41\n",
      "X_train shape is:  (55748, 1)\n",
      "X_test shape is:  (6685, 1)\n",
      "y_train shape is:  (55748,)\n",
      "y_test shape is:  (6685,)\n",
      "Accuracy: 0.0\n",
      "Precision: [0. 0.]\n",
      "Recall: [0. 0.]\n",
      "F1 score: [0. 0.]\n",
      "coefficients : [8.16111863e-07]\n",
      "[0 1 2 3 4 6 7] [5]\n",
      "**** Patient left out is  44\n",
      "X_train shape is:  (53941, 1)\n",
      "X_test shape is:  (8492, 1)\n",
      "y_train shape is:  (53941,)\n",
      "y_test shape is:  (8492,)\n",
      "Accuracy: 1.0\n",
      "Precision: [1.]\n",
      "Recall: [1.]\n",
      "F1 score: [1.]\n",
      "coefficients : [-2.65884979e-06]\n",
      "[0 1 2 3 4 5 7] [6]\n",
      "**** Patient left out is  47\n",
      "X_train shape is:  (53076, 1)\n",
      "X_test shape is:  (9357, 1)\n",
      "y_train shape is:  (53076,)\n",
      "y_test shape is:  (9357,)\n",
      "Accuracy: 1.0\n",
      "Precision: [1.]\n",
      "Recall: [1.]\n",
      "F1 score: [1.]\n",
      "coefficients : [7.20916833e-07]\n",
      "[0 1 2 3 4 5 6] [7]\n",
      "**** Patient left out is  54\n",
      "X_train shape is:  (55353, 1)\n",
      "X_test shape is:  (7080, 1)\n",
      "y_train shape is:  (55353,)\n",
      "y_test shape is:  (7080,)\n",
      "Accuracy: 0.0\n",
      "Precision: [0. 0.]\n",
      "Recall: [0. 0.]\n",
      "F1 score: [0. 0.]\n",
      "coefficients : [-0.0005836]\n"
     ]
    }
   ],
   "source": [
    "## choose between loo or lpo\n",
    "\n",
    "from sklearn import svm, metrics\n",
    "from sklearn.metrics import roc_curve, auc\n",
    "\n",
    "#all\n",
    "svm_acc=[]\n",
    "svm_pred=[]\n",
    "svm_recall=[]\n",
    "svm_coef =[]\n",
    "svm_f1_score=[]\n",
    "svm_roc_auc_score =[]\n",
    "svm_train_size = []\n",
    "svm_test_size = []\n",
    "\n",
    "#sum\n",
    "svm_pred_sum=[]\n",
    "svm_recall_sum=[]\n",
    "svm_f1_score_sum=[]\n",
    "svm_auc_train=[]\n",
    "svm_auc_test=[]\n",
    "\n",
    "# sd\n",
    "svm_acc_sd = []\n",
    "svm_pred_sd=[]\n",
    "svm_recall_sd=[]\n",
    "svm_f1_score_sd=[]\n",
    "svm_auc_train_sd=[]\n",
    "svm_auc_test_sd=[]\n",
    "\n",
    "#pd\n",
    "svm_acc_pd = []\n",
    "svm_pred_pd=[]\n",
    "svm_recall_pd=[]\n",
    "svm_f1_score_pd=[]\n",
    "svm_auc_train_pd=[]\n",
    "svm_auc_test_pd=[]\n",
    "\n",
    "train_fpr_list=[]\n",
    "test_fpr_list = []\n",
    "test_tpr_list = []\n",
    "train_tpr_list = []\n",
    "\n",
    "\n",
    "X = np.ones(8) #without #43\n",
    "lpo = LeavePOut(p=1)\n",
    "loo = LeaveOneOut()\n",
    "all_pat = [33, 34, 36, 37, 41, 44, 47, 54] #[33, 34, 36, 37, 41, 43, 44, 47, 54]\n",
    "count3 = 0\n",
    "\n",
    "\n",
    "all_y = []\n",
    "all_probs=[]\n",
    "\n",
    "\n",
    "for train, test in lpo.split(X): ## loo or lpo...\n",
    "    print(\"%s %s\" % (train, test))\n",
    "    \n",
    "    #p_pred_train=[47,37,36,41,54,33,44]\n",
    "    rows1=[]\n",
    "    for ii in range(len(train)):\n",
    "        #print(ii)\n",
    "        rows1.append(np.array(np.where(pat_list==all_pat[train[ii]])).flatten())\n",
    "    \n",
    "    flatlist = [element for sublist in rows1 for element in sublist]\n",
    "    rows1=flatlist\n",
    "\n",
    "    #p_pred_test=[43,34]\n",
    "    rows2=[]\n",
    "    for ii in range(len(test)):\n",
    "        print('**** Patient left out is ',all_pat[test[ii]])\n",
    "        rows2.append(np.array(np.where(pat_list==all_pat[test[ii]])).flatten())\n",
    "    flatlist=[element for sublist in rows2 for element in sublist]\n",
    "    rows2=flatlist \n",
    "    \n",
    "    \n",
    "    \n",
    "\n",
    "    X_train= data_pred[rows1,:]\n",
    "    X_test = data_pred[rows2,:]\n",
    "    #[33, 34, 36, 37, 41, 43, 44, 47, 54]\n",
    "\n",
    "\n",
    "    y_train= data_target[rows1]\n",
    "    y_test = data_target[rows2]\n",
    "    print('X_train shape is: ',X_train.shape)\n",
    "    print('X_test shape is: ', X_test.shape)\n",
    "    print('y_train shape is: ',y_train.shape)\n",
    "    print('y_test shape is: ',y_test.shape)\n",
    "    \n",
    "    \n",
    "    # generating the model\n",
    "\n",
    "    #Create a svm Classifier\n",
    "    clf = svm.SVC(kernel='linear') # Linear Kernel\n",
    "    \n",
    "    \n",
    "    #Train the model using the training sets\n",
    "    clf.fit(X_train, y_train)\n",
    "\n",
    "    #Predict the response for test dataset\n",
    "    y_pred = clf.predict(X_test)\n",
    "    \n",
    "    #evaluating the model \n",
    "    #Import scikit-learn metrics module for accuracy calculation\n",
    "    \n",
    "    # for the ROC\n",
    "    y_train_pred = clf.decision_function(X_train)    \n",
    "    y_test_pred = clf.decision_function(X_test)\n",
    "\n",
    "\n",
    "    \n",
    "    # Model Accuracy: how often is the classifier correct?\n",
    "    print(\"Accuracy:\",metrics.accuracy_score(y_test, y_pred))\n",
    "\n",
    "    # Model Precision: what percentage of positive tuples are labeled as such?\n",
    "    print(\"Precision:\",metrics.precision_score(y_test, y_pred,zero_division=0,average=None))\n",
    "\n",
    "    # Model Recall: what percentage of positive tuples has the model correctly identified as positive?\n",
    "    print(\"Recall:\",metrics.recall_score(y_test, y_pred,zero_division=0,average=None))\n",
    "\n",
    "\n",
    "    #F1 score\n",
    "    print(\"F1 score:\", str(metrics.f1_score(y_test, y_pred,zero_division=0,average=None)))\n",
    "\n",
    "\n",
    "\n",
    "    print(\"coefficients :\", str(clf.coef_[0])) #Aug 8th 2024\n",
    "\n",
    "\n",
    "    ####\n",
    "    ##### end of JUne 27th 2024 code add\n",
    "    \n",
    "\n",
    "    svm_acc.append(metrics.accuracy_score(y_test, y_pred))\n",
    "    svm_pred.append(metrics.precision_score(y_test, y_pred,zero_division=0))\n",
    "    svm_recall.append(metrics.recall_score(y_test, y_pred,zero_division=0))\n",
    "    svm_coef.append(clf.coef_[0])\n",
    "    svm_f1_score.append(metrics.f1_score(y_test, y_pred))\n",
    "    svm_train_size.append(X_train.shape[0])\n",
    "    svm_test_size.append(X_test.shape[0])\n",
    "\n",
    "    train_tpr_list.append(train_tpr)\n",
    "    test_tpr_list.append(test_tpr)\n",
    "    train_fpr_list.append(train_fpr)\n",
    "    test_fpr_list.append(test_fpr)\n",
    "    \n",
    "    count3= count3+1\n",
    "\n",
    "\n",
    "    # sum for for the overall numbers\n",
    "    svm_pred_sum.append(np.sum(metrics.precision_score(y_test, y_pred,zero_division=0,average=None)))\n",
    "    svm_recall_sum.append(np.sum(metrics.recall_score(y_test, y_pred,zero_division=0,average=None)))\n",
    "    svm_f1_score_sum.append(np.sum(metrics.f1_score(y_test, y_pred,average=None)))\n",
    "\n",
    "   ## collecting stats per fold\n",
    "    \n",
    "    if (all_pat[test[ii]] in [33, 34, 37, 47,44]):\n",
    "        svm_acc_sd.append(metrics.accuracy_score(y_test, y_pred))\n",
    "        if (len(metrics.precision_score(y_test, y_pred,zero_division=0,average=None))==1):\n",
    "            svm_pred_sd.append(metrics.precision_score(y_test, y_pred,zero_division=0,average=None)[0])\n",
    "            svm_recall_sd.append(metrics.recall_score(y_test, y_pred,zero_division=0,average=None)[0])\n",
    "            svm_f1_score_sd.append(metrics.f1_score(y_test, y_pred,average=None)[0])\n",
    "            \n",
    "        elif (len(metrics.precision_score(y_test, y_pred,zero_division=0,average=None))>1):\n",
    "            svm_pred_sd.append(metrics.precision_score(y_test, y_pred,zero_division=0,average=None)[1])\n",
    "            svm_recall_sd.append(metrics.recall_score(y_test, y_pred,zero_division=0,average=None)[1])\n",
    "            svm_f1_score_sd.append(metrics.f1_score(y_test, y_pred,average=None)[1])\n",
    "\n",
    "    else:\n",
    "        svm_acc_pd.append(metrics.accuracy_score(y_test, y_pred))\n",
    "        svm_pred_pd.append(metrics.precision_score(y_test, y_pred,zero_division=0,average=None)[0])\n",
    "        svm_recall_pd.append(metrics.recall_score(y_test, y_pred,zero_division=0,average=None)[0])\n",
    "        svm_f1_score_pd.append(metrics.f1_score(y_test, y_pred,average=None)[0])\n",
    "\n",
    "        \n"
   ]
  },
  {
   "cell_type": "code",
   "execution_count": 117,
   "metadata": {},
   "outputs": [
    {
     "name": "stdout",
     "output_type": "stream",
     "text": [
      "0.6250 accuracy with a standard deviation of 0.4841\n",
      "0.6250 precision with a standard deviation of 0.4841\n",
      "0.6250 recall with a standard deviation of 0.4841\n",
      "0.6250 f1 score with a standard deviation of 0.4841\n"
     ]
    }
   ],
   "source": [
    "#sum\n",
    "print(\"%0.4f accuracy with a standard deviation of %0.4f\" % (np.array(svm_acc).mean(), np.array(svm_acc).std()))\n",
    "print(\"%0.4f precision with a standard deviation of %0.4f\" % (np.array(svm_pred_sum).mean(), np.array(svm_pred_sum).std()))\n",
    "print(\"%0.4f recall with a standard deviation of %0.4f\" % (np.array(svm_recall_sum).mean(), np.array(svm_recall_sum).std()))\n",
    "print(\"%0.4f f1 score with a standard deviation of %0.4f\" % (np.array(svm_f1_score_sum).mean(), np.array(svm_f1_score_sum).std()))\n"
   ]
  },
  {
   "cell_type": "code",
   "execution_count": 118,
   "metadata": {},
   "outputs": [
    {
     "name": "stdout",
     "output_type": "stream",
     "text": [
      "1.0000 accuracy with a standard deviation of 0.0000\n",
      "1.0000 precision with a standard deviation of 0.0000\n",
      "1.0000 recall with a standard deviation of 0.0000\n",
      "1.0000 f1 score with a standard deviation of 0.0000\n"
     ]
    }
   ],
   "source": [
    "#SD \n",
    "print(\"%0.4f accuracy with a standard deviation of %0.4f\" % (np.array(svm_acc_sd).mean(), np.array(svm_acc_sd).std()))\n",
    "print(\"%0.4f precision with a standard deviation of %0.4f\" % (np.array(svm_pred_sd).mean(), np.array(svm_pred_sd).std()))\n",
    "print(\"%0.4f recall with a standard deviation of %0.4f\" % (np.array(svm_recall_sd).mean(), np.array(svm_recall_sd).std()))\n",
    "print(\"%0.4f f1 score with a standard deviation of %0.4f\" % (np.array(svm_f1_score_sd).mean(), np.array(svm_f1_score_sd).std()))\n"
   ]
  },
  {
   "cell_type": "code",
   "execution_count": 120,
   "metadata": {},
   "outputs": [
    {
     "name": "stdout",
     "output_type": "stream",
     "text": [
      "0.0000 accuracy with a standard deviation of 0.0000\n",
      "0.0000 precision with a standard deviation of 0.0000\n",
      "0.0000 recall with a standard deviation of 0.0000\n",
      "0.0000 f1 score with a standard deviation of 0.0000\n"
     ]
    }
   ],
   "source": [
    "#PD\n",
    "print(\"%0.4f accuracy with a standard deviation of %0.4f\" % (np.array(svm_acc_pd).mean(), np.array(svm_acc_pd).std()))\n",
    "print(\"%0.4f precision with a standard deviation of %0.4f\" % (np.array(svm_pred_pd).mean(), np.array(svm_pred_pd).std()))\n",
    "print(\"%0.4f recall with a standard deviation of %0.4f\" % (np.array(svm_recall_pd).mean(), np.array(svm_recall_pd).std()))\n",
    "print(\"%0.4f f1 score with a standard deviation of %0.4f\" % (np.array(svm_f1_score_pd).mean(), np.array(svm_f1_score_pd).std()))\n"
   ]
  },
  {
   "cell_type": "code",
   "execution_count": null,
   "metadata": {},
   "outputs": [],
   "source": []
  },
  {
   "cell_type": "code",
   "execution_count": null,
   "metadata": {},
   "outputs": [],
   "source": []
  }
 ],
 "metadata": {
  "kernelspec": {
   "display_name": "Python 3 (ipykernel)",
   "language": "python",
   "name": "python3"
  },
  "language_info": {
   "codemirror_mode": {
    "name": "ipython",
    "version": 3
   },
   "file_extension": ".py",
   "mimetype": "text/x-python",
   "name": "python",
   "nbconvert_exporter": "python",
   "pygments_lexer": "ipython3",
   "version": "3.10.16"
  }
 },
 "nbformat": 4,
 "nbformat_minor": 4
}
